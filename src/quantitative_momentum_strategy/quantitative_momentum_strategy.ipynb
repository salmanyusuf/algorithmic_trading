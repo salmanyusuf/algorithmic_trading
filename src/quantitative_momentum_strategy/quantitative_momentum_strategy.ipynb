{
 "cells": [
  {
   "cell_type": "markdown",
   "id": "5426525e",
   "metadata": {},
   "source": [
    "# Quantitative Momentum Strategy.\n",
    "\n",
    "Investing in the stocks that have increased in price the most."
   ]
  },
  {
   "cell_type": "code",
   "execution_count": null,
   "id": "7206d446",
   "metadata": {},
   "outputs": [],
   "source": [
    "# Import libraries\n",
    "\n",
    "import numpy as np\n",
    "import pandas as pd\n",
    "import requests\n",
    "import math\n",
    "from scipy.stats import percentileofscore\n",
    "import xlsxwriter"
   ]
  },
  {
   "cell_type": "code",
   "execution_count": null,
   "id": "3ec4ddf6",
   "metadata": {},
   "outputs": [],
   "source": [
    "# Import list of stocks\n",
    "\n",
    "stocks = pd.read_csv(\"sp_500_stocks.csv\")\n",
    "stocks = stocks.drop([135,219, 467, 484]) # stocks giving error, might not be in list\n",
    "# print(stocks)"
   ]
  },
  {
   "cell_type": "code",
   "execution_count": null,
   "id": "6033e593",
   "metadata": {},
   "outputs": [],
   "source": [
    "# Import IEX Cloud API Token (Sandbox API)\n",
    "\n",
    "from secret import IEX_CLOUD_API_TOKEN\n",
    "token = IEX_CLOUD_API_TOKEN"
   ]
  },
  {
   "cell_type": "code",
   "execution_count": null,
   "id": "9acc95aa",
   "metadata": {},
   "outputs": [],
   "source": [
    "# Make first API Call\n",
    "symbol = \"AAPL\"\n",
    "api_url = f\"https://sandbox.iexapis.com/stable/stock/{symbol}/stats?token={token}\"\n",
    "data = requests.get(api_url).json()\n",
    "# data\n",
    "\n",
    "# Parse API\n",
    "# data['year1ChangePercent']\n",
    "data"
   ]
  },
  {
   "cell_type": "markdown",
   "id": "27c0d369",
   "metadata": {},
   "source": [
    "## Execute Batch API Call and Build Dataframe."
   ]
  },
  {
   "cell_type": "code",
   "execution_count": null,
   "id": "429f53d2",
   "metadata": {},
   "outputs": [],
   "source": [
    "def divide_chunks(lst, n):     \n",
    "    \"\"\"Yield successive n sized chunks/batches from lst\"\"\"\n",
    "    for i in range(0, len(lst), n):\n",
    "        yield lst.loc[i:i + n]\n",
    "        \n",
    "symbol_groups = list(divide_chunks(stocks[\"Ticker\"], 100))\n",
    "symbol_strings = []\n",
    "for i in range (0, len(symbol_groups)):\n",
    "    symbol_strings.append(','.join(symbol_groups[i]))\n",
    "#     print(symbol_strings[i])\n",
    "\n",
    "my_columns = ['Ticker', 'Price', 'One-Year Price Return', 'Number of shares to buy']"
   ]
  },
  {
   "cell_type": "code",
   "execution_count": null,
   "id": "26c0a1b8",
   "metadata": {},
   "outputs": [],
   "source": [
    "final_df = pd.DataFrame(columns = my_columns)\n",
    "\n",
    "for symbol_string in symbol_strings:\n",
    "    # Make Batch API Call \n",
    "    batch_api_call_url = f\"https://sandbox.iexapis.com/stable/stock/market/batch?symbols={symbol_string}&types=stats,quote&token={token}\"\n",
    "    response = requests.get(batch_api_call_url)\n",
    "    response.raise_for_status()  # raises exception when not a 2xx response\n",
    "    if response.status_code != 204:\n",
    "        data = response.json()\n",
    "#     print(data)\n",
    "\n",
    "    for symbol in symbol_string.split(','):\n",
    "        \n",
    "        if symbol in data.keys():\n",
    "            # Parse API Call\n",
    "            price = data[symbol]['quote']['latestPrice']\n",
    "            oneYearReturn = data[symbol]['stats']['year1ChangePercent']\n",
    "\n",
    "            # Add stocks to dataframe\n",
    "            new_stock = pd.DataFrame([[symbol, price, oneYearReturn, \"N/A\"]], columns = my_columns)\n",
    "            final_df = pd.concat([final_df, new_stock])"
   ]
  },
  {
   "cell_type": "code",
   "execution_count": null,
   "id": "2f6092e9",
   "metadata": {},
   "outputs": [],
   "source": [
    "final_df = final_df.set_index(\"Ticker\").reset_index()\n",
    "final_df"
   ]
  },
  {
   "cell_type": "markdown",
   "id": "3edeebe4",
   "metadata": {},
   "source": [
    "## Removing Low-Momentum Stocks."
   ]
  },
  {
   "cell_type": "code",
   "execution_count": null,
   "id": "8a86c9e0",
   "metadata": {},
   "outputs": [],
   "source": [
    "final_df = final_df.sort_values('One-Year Price Return', ascending = False)[:50].reset_index()\n",
    "# final_df"
   ]
  },
  {
   "cell_type": "markdown",
   "id": "61faafd6",
   "metadata": {},
   "source": [
    "## Calculating number of shares to buy."
   ]
  },
  {
   "cell_type": "code",
   "execution_count": null,
   "id": "10ab489e",
   "metadata": {},
   "outputs": [],
   "source": [
    "def portfolio_input():\n",
    "    global portfolio_size\n",
    "    portfolio_size = input('Enter the value of your portfolio:')\n",
    "\n",
    "    try:\n",
    "        val = float(portfolio_size)\n",
    "    except ValueError:\n",
    "        print(\"Please enter an integer.\")\n",
    "        portfolio_size = input('Enter the value of your portfolio:')\n",
    "        val = float(portfolio_size)"
   ]
  },
  {
   "cell_type": "code",
   "execution_count": null,
   "id": "4a1dd874",
   "metadata": {},
   "outputs": [],
   "source": [
    "portfolio_input()"
   ]
  },
  {
   "cell_type": "code",
   "execution_count": null,
   "id": "1c722400",
   "metadata": {},
   "outputs": [],
   "source": [
    "position_size = float(portfolio_size)/len(final_df.index)\n",
    "final_df['Number of shares to buy'] = (position_size/final_df['Price']).apply(np.floor)\n",
    "# final_df"
   ]
  },
  {
   "cell_type": "markdown",
   "id": "66032ea6",
   "metadata": {},
   "source": [
    "## Building a better and more realistic Momentum Strategy.\n",
    "\n",
    "Differentiate between high quality (consistent, stable growth) momentum stocks vs low quality (inconsistent, sharp growth) momentum stocks. \n",
    "\n",
    "We will select stocks from the highest percentiles of:\n",
    "* 1-month price returns\n",
    "* 3-month price returns\n",
    "* 6-month price returns\n",
    "* 1-year price returns"
   ]
  },
  {
   "cell_type": "code",
   "execution_count": null,
   "id": "339a19b7",
   "metadata": {},
   "outputs": [],
   "source": [
    "hqm_columns = [\n",
    "    'Ticker',\n",
    "    'Price',\n",
    "    'Number of shares to buy',\n",
    "    'One-Year Price Return',\n",
    "    'One-Year Return Percentile',\n",
    "    'Six-Month Price Return',\n",
    "    'Six-Month Return Percentile',\n",
    "    'Three-Month Price Return',\n",
    "    'Three-Month Return Percentile',\n",
    "    'One-Month Price Return',\n",
    "    'One-Month Return Percentile',\n",
    "    'HQM Score'\n",
    "]\n",
    "\n",
    "hqm_df = pd.DataFrame(columns = hqm_columns)\n",
    "# hqm_df"
   ]
  },
  {
   "cell_type": "code",
   "execution_count": null,
   "id": "af202504",
   "metadata": {},
   "outputs": [],
   "source": [
    "for symbol_string in symbol_strings[:1]:\n",
    "    # Make Batch API Call \n",
    "    batch_api_call_url = f\"https://sandbox.iexapis.com/stable/stock/market/batch?symbols={symbol_string}&types=stats,quote&token={token}\"\n",
    "    response = requests.get(batch_api_call_url)\n",
    "    response.raise_for_status()  # raises exception when not a 2xx response\n",
    "    if response.status_code != 204:\n",
    "        data = response.json()\n",
    "    \n",
    "    for symbol in symbol_string.split(','):\n",
    "        \n",
    "        if symbol in data.keys():\n",
    "            # Parse API Call\n",
    "            price = data[symbol]['quote']['latestPrice']\n",
    "            oneYearPriceReturn = data[symbol]['stats']['year1ChangePercent']\n",
    "            sixMonthPriceReturn = data[symbol]['stats']['month6ChangePercent']\n",
    "            threeMonthPriceReturn = data[symbol]['stats']['month3ChangePercent']\n",
    "            oneMonthPriceReturn = data[symbol]['stats']['month1ChangePercent']\n",
    "\n",
    "            # Add stocks to dataframe\n",
    "            new_stock = pd.DataFrame([[\n",
    "                symbol, \n",
    "                price, \n",
    "                \"N/A\", \n",
    "                oneYearPriceReturn,\n",
    "                \"N/A\",\n",
    "                sixMonthPriceReturn, \n",
    "                \"N/A\",\n",
    "                threeMonthPriceReturn, \n",
    "                \"N/A\",\n",
    "                oneMonthPriceReturn,\n",
    "                \"N/A\",\n",
    "                \"N/A\"\n",
    "            ]], columns = hqm_columns)\n",
    "            hqm_df = pd.concat([hqm_df, new_stock])"
   ]
  },
  {
   "cell_type": "code",
   "execution_count": null,
   "id": "1854b06a",
   "metadata": {},
   "outputs": [],
   "source": [
    "time_periods = [\n",
    "                'One-Year',\n",
    "                'Six-Month',\n",
    "                'Three-Month',\n",
    "                'One-Month'\n",
    "                ]\n",
    "\n",
    "for row in hqm_df.index:\n",
    "    for time_period in time_periods:\n",
    "        hqm_df.loc[row, f'{time_period} Return Percentile'] = percentileofscore(hqm_df[f'{time_period} Price Return'], hqm_df.loc[row, f'{time_period} Price Return'])/100\n",
    "\n",
    "# Print each percentile score to make sure it was calculated properly\n",
    "# for time_period in time_periods:\n",
    "#     print(hqm_df[f'{time_period} Return Percentile'])\n",
    "\n",
    "#Print the entire DataFrame    \n",
    "# hqm_df"
   ]
  },
  {
   "cell_type": "markdown",
   "id": "7a7ac342",
   "metadata": {},
   "source": [
    "## Calculating HQM Scores."
   ]
  },
  {
   "cell_type": "code",
   "execution_count": null,
   "id": "e4e21315",
   "metadata": {},
   "outputs": [],
   "source": [
    "from statistics import mean\n",
    "hqm_df['HQM Score'] = (hqm_df['One-Year Return Percentile'] \n",
    "                       + hqm_df['Six-Month Return Percentile'] \n",
    "                       + hqm_df['Three-Month Return Percentile'] \n",
    "                       + hqm_df['One-Month Return Percentile'])/4\n",
    "\n",
    "# hqm_df"
   ]
  },
  {
   "cell_type": "markdown",
   "id": "ab0fb747",
   "metadata": {},
   "source": [
    "## Select 50 Best Momentum Stocks."
   ]
  },
  {
   "cell_type": "code",
   "execution_count": null,
   "id": "aa7dbb92",
   "metadata": {},
   "outputs": [],
   "source": [
    "hqm_df.sort_values(by = 'HQM Score', ascending = False)\n",
    "hqm_df = hqm_df[:51]\n",
    "# hqm_df"
   ]
  },
  {
   "cell_type": "markdown",
   "id": "6384dc3b",
   "metadata": {},
   "source": [
    "## Calculate number of shares to buy."
   ]
  },
  {
   "cell_type": "code",
   "execution_count": null,
   "id": "2ebf124b",
   "metadata": {},
   "outputs": [],
   "source": [
    "portfolio_input()"
   ]
  },
  {
   "cell_type": "code",
   "execution_count": null,
   "id": "4cfb0e04",
   "metadata": {},
   "outputs": [],
   "source": [
    "position_size = float(portfolio_size)/len(hqm_df.index)\n",
    "hqm_df['Number of shares to buy'] = (position_size/hqm_df['Price']).apply(np.floor)\n",
    "# hqm_df"
   ]
  },
  {
   "cell_type": "markdown",
   "id": "07e39070",
   "metadata": {},
   "source": [
    "## Format Excel Output."
   ]
  },
  {
   "cell_type": "code",
   "execution_count": null,
   "id": "324f7bfd",
   "metadata": {},
   "outputs": [],
   "source": [
    "writer = pd.ExcelWriter('momentum_strategy.xlsx', engine='xlsxwriter')\n",
    "hqm_df.to_excel(writer, sheet_name='Momentum Strategy', index = False)"
   ]
  },
  {
   "cell_type": "code",
   "execution_count": null,
   "id": "73559b97",
   "metadata": {},
   "outputs": [],
   "source": [
    "# Set Formats\n",
    "\n",
    "background_color = '#0a0a23'\n",
    "font_color = '#ffffff'\n",
    "\n",
    "string_template = writer.book.add_format(\n",
    "        {\n",
    "            'font_color': font_color,\n",
    "            'bg_color': background_color,\n",
    "            'border': 1\n",
    "        }\n",
    "    )\n",
    "\n",
    "dollar_template = writer.book.add_format(\n",
    "        {\n",
    "            'num_format':'$0.00',\n",
    "            'font_color': font_color,\n",
    "            'bg_color': background_color,\n",
    "            'border': 1\n",
    "        }\n",
    "    )\n",
    "\n",
    "integer_template = writer.book.add_format(\n",
    "        {\n",
    "            'num_format':'0',\n",
    "            'font_color': font_color,\n",
    "            'bg_color': background_color,\n",
    "            'border': 1\n",
    "        }\n",
    "    )\n",
    "\n",
    "percent_template = writer.book.add_format(\n",
    "        {\n",
    "            'num_format':'0.0%',\n",
    "            'font_color': font_color,\n",
    "            'bg_color': background_color,\n",
    "            'border': 1\n",
    "        }\n",
    "    )"
   ]
  },
  {
   "cell_type": "code",
   "execution_count": null,
   "id": "11798394",
   "metadata": {},
   "outputs": [],
   "source": [
    "# Apply formats\n",
    "column_formats = { \n",
    "                    'A': ['Ticker', string_template],\n",
    "                    'B': ['Price', dollar_template],\n",
    "                    'C': ['Number of shares to buy', integer_template],\n",
    "                    'D': ['One-Year Price Return', percent_template],\n",
    "                    'E': ['One-Year Return Percentile', percent_template],\n",
    "                    'F': ['Six-Month Price Return', percent_template],\n",
    "                    'G': ['Six-Month Return Percentile', percent_template],\n",
    "                    'H': ['Three-Month Price Return', percent_template],\n",
    "                    'I': ['Three-Month Return Percentile', percent_template],\n",
    "                    'J': ['One-Month Price Return', percent_template],\n",
    "                    'K': ['One-Month Return Percentile', percent_template],\n",
    "                    'L': ['HQM Score', integer_template]\n",
    "                    }\n",
    "\n",
    "for column in column_formats.keys():\n",
    "    writer.sheets['Momentum Strategy'].set_column(f'{column}:{column}', 20, column_formats[column][1])\n",
    "    writer.sheets['Momentum Strategy'].write(f'{column}1', column_formats[column][0], string_template)"
   ]
  },
  {
   "cell_type": "code",
   "execution_count": null,
   "id": "23cdf104",
   "metadata": {},
   "outputs": [],
   "source": [
    "# Save .xlsx file\n",
    "writer.save()"
   ]
  }
 ],
 "metadata": {
  "kernelspec": {
   "display_name": "Python 3",
   "language": "python",
   "name": "python3"
  },
  "language_info": {
   "codemirror_mode": {
    "name": "ipython",
    "version": 3
   },
   "file_extension": ".py",
   "mimetype": "text/x-python",
   "name": "python",
   "nbconvert_exporter": "python",
   "pygments_lexer": "ipython3",
   "version": "3.8.12"
  }
 },
 "nbformat": 4,
 "nbformat_minor": 5
}
