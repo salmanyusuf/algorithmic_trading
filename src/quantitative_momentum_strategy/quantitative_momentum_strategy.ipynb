{
 "cells": [
  {
   "cell_type": "markdown",
   "id": "5426525e",
   "metadata": {},
   "source": [
    "# Quantitative Momentum Strategy.\n",
    "\n",
    "Investing in the stocks that have increased in price the most."
   ]
  },
  {
   "cell_type": "code",
   "execution_count": 1,
   "id": "7206d446",
   "metadata": {},
   "outputs": [],
   "source": [
    "# Import libraries\n",
    "\n",
    "import numpy as np\n",
    "import pandas as pd\n",
    "import requests\n",
    "import math\n",
    "from scipy.stats import percentileofscore\n",
    "import xlsxwriter"
   ]
  },
  {
   "cell_type": "code",
   "execution_count": 2,
   "id": "3ec4ddf6",
   "metadata": {},
   "outputs": [],
   "source": [
    "# Import list of stocks\n",
    "\n",
    "stocks = pd.read_csv(\"sp_500_stocks.csv\")\n",
    "stocks = stocks.drop([135,219, 467, 484]) # stocks giving error, might not be in list\n",
    "# print(stocks)"
   ]
  },
  {
   "cell_type": "code",
   "execution_count": 3,
   "id": "6033e593",
   "metadata": {},
   "outputs": [],
   "source": [
    "# Import IEX Cloud API Token (Sandbox API)\n",
    "\n",
    "from secret import IEX_CLOUD_API_TOKEN\n",
    "token = IEX_CLOUD_API_TOKEN"
   ]
  },
  {
   "cell_type": "code",
   "execution_count": 4,
   "id": "9acc95aa",
   "metadata": {},
   "outputs": [
    {
     "data": {
      "text/plain": [
       "{'companyName': 'Apple Inc',\n",
       " 'marketcap': 1998975633166,\n",
       " 'week52high': 183.8,\n",
       " 'week52low': 126.05,\n",
       " 'week52highSplitAdjustOnly': 182.97,\n",
       " 'week52lowSplitAdjustOnly': 124.58,\n",
       " 'week52change': -0.3138330379935121,\n",
       " 'sharesOutstanding': 16407613206,\n",
       " 'float': 0,\n",
       " 'avg10Volume': 84352967,\n",
       " 'avg30Volume': 83609799,\n",
       " 'day200MovingAvg': 150.66,\n",
       " 'day50MovingAvg': 146.29,\n",
       " 'employees': 150486,\n",
       " 'ttmEPS': 6.3,\n",
       " 'ttmDividendRate': 1.105966787957242,\n",
       " 'dividendYield': 0.008629913431795595,\n",
       " 'nextDividendDate': '',\n",
       " 'exDividendDate': '2022-12-15',\n",
       " 'nextEarningsDate': '2023-01-14',\n",
       " 'peRatio': 20.448700825230635,\n",
       " 'beta': 1.3446524792852397,\n",
       " 'maxChangePercent': 49.04339712643232,\n",
       " 'year5ChangePercent': 2.08840796950289,\n",
       " 'year2ChangePercent': -0.04652480995778121,\n",
       " 'year1ChangePercent': -0.31878305582264,\n",
       " 'ytdChangePercent': -0.03886132011497364,\n",
       " 'month6ChangePercent': -0.09814169701558863,\n",
       " 'month3ChangePercent': -0.11951674515904048,\n",
       " 'month1ChangePercent': -0.15658140790334274,\n",
       " 'day30ChangePercent': -0.1591386516003598,\n",
       " 'day5ChangePercent': -0.03978244319547657}"
      ]
     },
     "execution_count": 4,
     "metadata": {},
     "output_type": "execute_result"
    }
   ],
   "source": [
    "# Make first API Call\n",
    "symbol = \"AAPL\"\n",
    "api_url = f\"https://sandbox.iexapis.com/stable/stock/{symbol}/stats?token={token}\"\n",
    "data = requests.get(api_url).json()\n",
    "# data\n",
    "\n",
    "# Parse API\n",
    "# data['year1ChangePercent']\n",
    "data"
   ]
  },
  {
   "cell_type": "markdown",
   "id": "27c0d369",
   "metadata": {},
   "source": [
    "## Execute Batch API Call and Build Dataframe."
   ]
  },
  {
   "cell_type": "code",
   "execution_count": 5,
   "id": "429f53d2",
   "metadata": {},
   "outputs": [],
   "source": [
    "def divide_chunks(lst, n):     \n",
    "    \"\"\"Yield successive n sized chunks/batches from lst\"\"\"\n",
    "    for i in range(0, len(lst), n):\n",
    "        yield lst.loc[i:i + n]\n",
    "        \n",
    "symbol_groups = list(divide_chunks(stocks[\"Ticker\"], 100))\n",
    "symbol_strings = []\n",
    "for i in range (0, len(symbol_groups)):\n",
    "    symbol_strings.append(','.join(symbol_groups[i]))\n",
    "#     print(symbol_strings[i])\n",
    "\n",
    "my_columns = ['Ticker', 'Price', 'One-Year Price Return', 'Number of shares to buy']"
   ]
  },
  {
   "cell_type": "code",
   "execution_count": 6,
   "id": "26c0a1b8",
   "metadata": {},
   "outputs": [],
   "source": [
    "final_df = pd.DataFrame(columns = my_columns)\n",
    "\n",
    "for symbol_string in symbol_strings:\n",
    "    # Make Batch API Call \n",
    "    batch_api_call_url = f\"https://sandbox.iexapis.com/stable/stock/market/batch?symbols={symbol_string}&types=stats,quote&token={token}\"\n",
    "    response = requests.get(batch_api_call_url)\n",
    "    response.raise_for_status()  # raises exception when not a 2xx response\n",
    "    if response.status_code != 204:\n",
    "        data = response.json()\n",
    "#     print(data)\n",
    "\n",
    "    for symbol in symbol_string.split(','):\n",
    "        \n",
    "        if symbol in data.keys():\n",
    "            # Parse API Call\n",
    "            price = data[symbol]['quote']['latestPrice']\n",
    "            oneYearReturn = data[symbol]['stats']['year1ChangePercent']\n",
    "\n",
    "            # Add stocks to dataframe\n",
    "            new_stock = pd.DataFrame([[symbol, price, oneYearReturn, \"N/A\"]], columns = my_columns)\n",
    "            final_df = pd.concat([final_df, new_stock])"
   ]
  },
  {
   "cell_type": "code",
   "execution_count": 7,
   "id": "2f6092e9",
   "metadata": {},
   "outputs": [
    {
     "data": {
      "text/html": [
       "<div>\n",
       "<style scoped>\n",
       "    .dataframe tbody tr th:only-of-type {\n",
       "        vertical-align: middle;\n",
       "    }\n",
       "\n",
       "    .dataframe tbody tr th {\n",
       "        vertical-align: top;\n",
       "    }\n",
       "\n",
       "    .dataframe thead th {\n",
       "        text-align: right;\n",
       "    }\n",
       "</style>\n",
       "<table border=\"1\" class=\"dataframe\">\n",
       "  <thead>\n",
       "    <tr style=\"text-align: right;\">\n",
       "      <th></th>\n",
       "      <th>Ticker</th>\n",
       "      <th>Price</th>\n",
       "      <th>One-Year Price Return</th>\n",
       "      <th>Number of shares to buy</th>\n",
       "    </tr>\n",
       "  </thead>\n",
       "  <tbody>\n",
       "    <tr>\n",
       "      <th>0</th>\n",
       "      <td>A</td>\n",
       "      <td>156.56</td>\n",
       "      <td>-0.035047</td>\n",
       "      <td>N/A</td>\n",
       "    </tr>\n",
       "    <tr>\n",
       "      <th>1</th>\n",
       "      <td>AAL</td>\n",
       "      <td>12.84</td>\n",
       "      <td>-0.32072</td>\n",
       "      <td>N/A</td>\n",
       "    </tr>\n",
       "    <tr>\n",
       "      <th>2</th>\n",
       "      <td>AAP</td>\n",
       "      <td>152.14</td>\n",
       "      <td>-0.349549</td>\n",
       "      <td>N/A</td>\n",
       "    </tr>\n",
       "    <tr>\n",
       "      <th>3</th>\n",
       "      <td>AAPL</td>\n",
       "      <td>130.96</td>\n",
       "      <td>-0.309604</td>\n",
       "      <td>N/A</td>\n",
       "    </tr>\n",
       "    <tr>\n",
       "      <th>4</th>\n",
       "      <td>ABBV</td>\n",
       "      <td>165.42</td>\n",
       "      <td>0.250971</td>\n",
       "      <td>N/A</td>\n",
       "    </tr>\n",
       "    <tr>\n",
       "      <th>...</th>\n",
       "      <td>...</td>\n",
       "      <td>...</td>\n",
       "      <td>...</td>\n",
       "      <td>...</td>\n",
       "    </tr>\n",
       "    <tr>\n",
       "      <th>499</th>\n",
       "      <td>YUM</td>\n",
       "      <td>128.50</td>\n",
       "      <td>-0.054744</td>\n",
       "      <td>N/A</td>\n",
       "    </tr>\n",
       "    <tr>\n",
       "      <th>500</th>\n",
       "      <td>ZBH</td>\n",
       "      <td>132.06</td>\n",
       "      <td>-0.006342</td>\n",
       "      <td>N/A</td>\n",
       "    </tr>\n",
       "    <tr>\n",
       "      <th>501</th>\n",
       "      <td>ZBRA</td>\n",
       "      <td>265.90</td>\n",
       "      <td>-0.56156</td>\n",
       "      <td>N/A</td>\n",
       "    </tr>\n",
       "    <tr>\n",
       "      <th>502</th>\n",
       "      <td>ZION</td>\n",
       "      <td>50.46</td>\n",
       "      <td>-0.233169</td>\n",
       "      <td>N/A</td>\n",
       "    </tr>\n",
       "    <tr>\n",
       "      <th>503</th>\n",
       "      <td>ZTS</td>\n",
       "      <td>148.83</td>\n",
       "      <td>-0.368951</td>\n",
       "      <td>N/A</td>\n",
       "    </tr>\n",
       "  </tbody>\n",
       "</table>\n",
       "<p>504 rows × 4 columns</p>\n",
       "</div>"
      ],
      "text/plain": [
       "    Ticker   Price One-Year Price Return Number of shares to buy\n",
       "0        A  156.56             -0.035047                     N/A\n",
       "1      AAL   12.84              -0.32072                     N/A\n",
       "2      AAP  152.14             -0.349549                     N/A\n",
       "3     AAPL  130.96             -0.309604                     N/A\n",
       "4     ABBV  165.42              0.250971                     N/A\n",
       "..     ...     ...                   ...                     ...\n",
       "499    YUM  128.50             -0.054744                     N/A\n",
       "500    ZBH  132.06             -0.006342                     N/A\n",
       "501   ZBRA  265.90              -0.56156                     N/A\n",
       "502   ZION   50.46             -0.233169                     N/A\n",
       "503    ZTS  148.83             -0.368951                     N/A\n",
       "\n",
       "[504 rows x 4 columns]"
      ]
     },
     "execution_count": 7,
     "metadata": {},
     "output_type": "execute_result"
    }
   ],
   "source": [
    "final_df = final_df.set_index(\"Ticker\").reset_index()\n",
    "final_df"
   ]
  },
  {
   "cell_type": "markdown",
   "id": "3edeebe4",
   "metadata": {},
   "source": [
    "## Removing Low-Momentum Stocks."
   ]
  },
  {
   "cell_type": "code",
   "execution_count": 8,
   "id": "8a86c9e0",
   "metadata": {},
   "outputs": [],
   "source": [
    "final_df = final_df.sort_values('One-Year Price Return', ascending = False)[:50].reset_index()\n",
    "# final_df"
   ]
  },
  {
   "cell_type": "markdown",
   "id": "61faafd6",
   "metadata": {},
   "source": [
    "## Calculating number of shares to buy."
   ]
  },
  {
   "cell_type": "code",
   "execution_count": 9,
   "id": "10ab489e",
   "metadata": {},
   "outputs": [],
   "source": [
    "def portfolio_input():\n",
    "    global portfolio_size\n",
    "    portfolio_size = input('Enter the value of your portfolio:')\n",
    "\n",
    "    try:\n",
    "        val = float(portfolio_size)\n",
    "    except ValueError:\n",
    "        print(\"Please enter an integer.\")\n",
    "        portfolio_size = input('Enter the value of your portfolio:')\n",
    "        val = float(portfolio_size)"
   ]
  },
  {
   "cell_type": "code",
   "execution_count": 10,
   "id": "4a1dd874",
   "metadata": {},
   "outputs": [
    {
     "name": "stdout",
     "output_type": "stream",
     "text": [
      "Enter the value of your portfolio:1000000\n"
     ]
    }
   ],
   "source": [
    "portfolio_input()"
   ]
  },
  {
   "cell_type": "code",
   "execution_count": 11,
   "id": "1c722400",
   "metadata": {},
   "outputs": [],
   "source": [
    "position_size = float(portfolio_size)/len(final_df.index)\n",
    "final_df['Number of shares to buy'] = (position_size/final_df['Price']).apply(np.floor)\n",
    "# final_df"
   ]
  },
  {
   "cell_type": "markdown",
   "id": "66032ea6",
   "metadata": {},
   "source": [
    "## Building a better and more realistic Momentum Strategy.\n",
    "\n",
    "Differentiate between high quality (consistent, stable growth) momentum stocks vs low quality (inconsistent, sharp growth) momentum stocks. \n",
    "\n",
    "We will select stocks from the highest percentiles of:\n",
    "* 1-month price returns\n",
    "* 3-month price returns\n",
    "* 6-month price returns\n",
    "* 1-year price returns"
   ]
  },
  {
   "cell_type": "code",
   "execution_count": 17,
   "id": "339a19b7",
   "metadata": {},
   "outputs": [],
   "source": [
    "hqm_columns = [\n",
    "    'Ticker',\n",
    "    'Price',\n",
    "    'Number of shares to buy',\n",
    "    'One-Year Price Return',\n",
    "    'One-Year Return Percentile',\n",
    "    'Six-Month Price Return',\n",
    "    'Six-Month Return Percentile',\n",
    "    'Three-Month Price Return',\n",
    "    'Three-Month Return Percentile',\n",
    "    'One-Month Price Return',\n",
    "    'One-Month Return Percentile',\n",
    "    'HQM Score'\n",
    "]\n",
    "\n",
    "hqm_df = pd.DataFrame(columns = hqm_columns)\n",
    "# hqm_df"
   ]
  },
  {
   "cell_type": "code",
   "execution_count": 18,
   "id": "af202504",
   "metadata": {},
   "outputs": [],
   "source": [
    "for symbol_string in symbol_strings[:1]:\n",
    "    # Make Batch API Call \n",
    "    batch_api_call_url = f\"https://sandbox.iexapis.com/stable/stock/market/batch?symbols={symbol_string}&types=stats,quote&token={token}\"\n",
    "    response = requests.get(batch_api_call_url)\n",
    "    response.raise_for_status()  # raises exception when not a 2xx response\n",
    "    if response.status_code != 204:\n",
    "        data = response.json()\n",
    "    \n",
    "    for symbol in symbol_string.split(','):\n",
    "        \n",
    "        if symbol in data.keys():\n",
    "            # Parse API Call\n",
    "            price = data[symbol]['quote']['latestPrice']\n",
    "            oneYearPriceReturn = data[symbol]['stats']['year1ChangePercent']\n",
    "            sixMonthPriceReturn = data[symbol]['stats']['month6ChangePercent']\n",
    "            threeMonthPriceReturn = data[symbol]['stats']['month3ChangePercent']\n",
    "            oneMonthPriceReturn = data[symbol]['stats']['month1ChangePercent']\n",
    "\n",
    "            # Add stocks to dataframe\n",
    "            new_stock = pd.DataFrame([[\n",
    "                symbol, \n",
    "                price, \n",
    "                \"N/A\", \n",
    "                oneYearPriceReturn,\n",
    "                \"N/A\",\n",
    "                sixMonthPriceReturn, \n",
    "                \"N/A\",\n",
    "                threeMonthPriceReturn, \n",
    "                \"N/A\",\n",
    "                oneMonthPriceReturn,\n",
    "                \"N/A\",\n",
    "                \"N/A\"\n",
    "            ]], columns = hqm_columns)\n",
    "            hqm_df = pd.concat([hqm_df, new_stock])"
   ]
  },
  {
   "cell_type": "code",
   "execution_count": 35,
   "id": "1854b06a",
   "metadata": {},
   "outputs": [],
   "source": [
    "time_periods = [\n",
    "                'One-Year',\n",
    "                'Six-Month',\n",
    "                'Three-Month',\n",
    "                'One-Month'\n",
    "                ]\n",
    "\n",
    "for row in hqm_df.index:\n",
    "    for time_period in time_periods:\n",
    "        hqm_df.loc[row, f'{time_period} Return Percentile'] = percentileofscore(hqm_df[f'{time_period} Price Return'], hqm_df.loc[row, f'{time_period} Price Return'])/100\n",
    "\n",
    "# Print each percentile score to make sure it was calculated properly\n",
    "# for time_period in time_periods:\n",
    "#     print(hqm_df[f'{time_period} Return Percentile'])\n",
    "\n",
    "#Print the entire DataFrame    \n",
    "# hqm_df"
   ]
  },
  {
   "cell_type": "markdown",
   "id": "7a7ac342",
   "metadata": {},
   "source": [
    "## Calculating HQM Scores."
   ]
  },
  {
   "cell_type": "code",
   "execution_count": 34,
   "id": "e4e21315",
   "metadata": {},
   "outputs": [],
   "source": [
    "from statistics import mean\n",
    "hqm_df['HQM Score'] = (hqm_df['One-Year Return Percentile'] \n",
    "                       + hqm_df['Six-Month Return Percentile'] \n",
    "                       + hqm_df['Three-Month Return Percentile'] \n",
    "                       + hqm_df['One-Month Return Percentile'])/4\n",
    "\n",
    "# hqm_df"
   ]
  },
  {
   "cell_type": "markdown",
   "id": "ab0fb747",
   "metadata": {},
   "source": [
    "## Select 50 Best Momentum Stocks."
   ]
  },
  {
   "cell_type": "code",
   "execution_count": 33,
   "id": "aa7dbb92",
   "metadata": {},
   "outputs": [],
   "source": [
    "hqm_df.sort_values(by = 'HQM Score', ascending = False)\n",
    "hqm_df = hqm_df[:51]\n",
    "# hqm_df"
   ]
  },
  {
   "cell_type": "markdown",
   "id": "6384dc3b",
   "metadata": {},
   "source": [
    "## Calculate number of shares to buy."
   ]
  },
  {
   "cell_type": "code",
   "execution_count": 36,
   "id": "2ebf124b",
   "metadata": {},
   "outputs": [
    {
     "name": "stdout",
     "output_type": "stream",
     "text": [
      "Enter the value of your portfolio:1000000\n"
     ]
    }
   ],
   "source": [
    "portfolio_input()"
   ]
  },
  {
   "cell_type": "code",
   "execution_count": 39,
   "id": "4cfb0e04",
   "metadata": {},
   "outputs": [],
   "source": [
    "position_size = float(portfolio_size)/len(hqm_df.index)\n",
    "hqm_df['Number of shares to buy'] = (position_size/hqm_df['Price']).apply(np.floor)\n",
    "# hqm_df"
   ]
  },
  {
   "cell_type": "markdown",
   "id": "07e39070",
   "metadata": {},
   "source": [
    "## Format Excel Output."
   ]
  },
  {
   "cell_type": "code",
   "execution_count": 41,
   "id": "324f7bfd",
   "metadata": {},
   "outputs": [],
   "source": [
    "writer = pd.ExcelWriter('momentum_strategy.xlsx', engine='xlsxwriter')\n",
    "hqm_df.to_excel(writer, sheet_name='Momentum Strategy', index = False)"
   ]
  },
  {
   "cell_type": "code",
   "execution_count": 42,
   "id": "73559b97",
   "metadata": {},
   "outputs": [],
   "source": [
    "# Set Formats\n",
    "\n",
    "background_color = '#0a0a23'\n",
    "font_color = '#ffffff'\n",
    "\n",
    "string_template = writer.book.add_format(\n",
    "        {\n",
    "            'font_color': font_color,\n",
    "            'bg_color': background_color,\n",
    "            'border': 1\n",
    "        }\n",
    "    )\n",
    "\n",
    "dollar_template = writer.book.add_format(\n",
    "        {\n",
    "            'num_format':'$0.00',\n",
    "            'font_color': font_color,\n",
    "            'bg_color': background_color,\n",
    "            'border': 1\n",
    "        }\n",
    "    )\n",
    "\n",
    "integer_template = writer.book.add_format(\n",
    "        {\n",
    "            'num_format':'0',\n",
    "            'font_color': font_color,\n",
    "            'bg_color': background_color,\n",
    "            'border': 1\n",
    "        }\n",
    "    )\n",
    "\n",
    "percent_template = writer.book.add_format(\n",
    "        {\n",
    "            'num_format':'0.0%',\n",
    "            'font_color': font_color,\n",
    "            'bg_color': background_color,\n",
    "            'border': 1\n",
    "        }\n",
    "    )"
   ]
  },
  {
   "cell_type": "code",
   "execution_count": 43,
   "id": "11798394",
   "metadata": {},
   "outputs": [],
   "source": [
    "# Apply formats\n",
    "column_formats = { \n",
    "                    'A': ['Ticker', string_template],\n",
    "                    'B': ['Price', dollar_template],\n",
    "                    'C': ['Number of shares to buy', integer_template],\n",
    "                    'D': ['One-Year Price Return', percent_template],\n",
    "                    'E': ['One-Year Return Percentile', percent_template],\n",
    "                    'F': ['Six-Month Price Return', percent_template],\n",
    "                    'G': ['Six-Month Return Percentile', percent_template],\n",
    "                    'H': ['Three-Month Price Return', percent_template],\n",
    "                    'I': ['Three-Month Return Percentile', percent_template],\n",
    "                    'J': ['One-Month Price Return', percent_template],\n",
    "                    'K': ['One-Month Return Percentile', percent_template],\n",
    "                    'L': ['HQM Score', integer_template]\n",
    "                    }\n",
    "\n",
    "for column in column_formats.keys():\n",
    "    writer.sheets['Momentum Strategy'].set_column(f'{column}:{column}', 20, column_formats[column][1])\n",
    "    writer.sheets['Momentum Strategy'].write(f'{column}1', column_formats[column][0], string_template)"
   ]
  },
  {
   "cell_type": "code",
   "execution_count": 44,
   "id": "23cdf104",
   "metadata": {},
   "outputs": [
    {
     "name": "stderr",
     "output_type": "stream",
     "text": [
      "<ipython-input-44-4cfb2f925781>:2: FutureWarning: save is not part of the public API, usage can give unexpected results and will be removed in a future version\n",
      "  writer.save()\n"
     ]
    }
   ],
   "source": [
    "# Save .xlsx file\n",
    "writer.save()"
   ]
  }
 ],
 "metadata": {
  "kernelspec": {
   "display_name": "Python 3",
   "language": "python",
   "name": "python3"
  },
  "language_info": {
   "codemirror_mode": {
    "name": "ipython",
    "version": 3
   },
   "file_extension": ".py",
   "mimetype": "text/x-python",
   "name": "python",
   "nbconvert_exporter": "python",
   "pygments_lexer": "ipython3",
   "version": "3.8.12"
  }
 },
 "nbformat": 4,
 "nbformat_minor": 5
}
