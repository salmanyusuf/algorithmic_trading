{
 "cells": [
  {
   "cell_type": "markdown",
   "id": "989f2549",
   "metadata": {},
   "source": [
    "# Equal-Weight S&P 500 Index Fund."
   ]
  },
  {
   "cell_type": "code",
   "execution_count": null,
   "id": "407587d0",
   "metadata": {},
   "outputs": [],
   "source": [
    "# Import libraries\n",
    "\n",
    "import numpy as np\n",
    "import pandas as pd\n",
    "import requests\n",
    "import xlsxwriter\n",
    "import math"
   ]
  },
  {
   "cell_type": "code",
   "execution_count": null,
   "id": "f3b12616",
   "metadata": {},
   "outputs": [],
   "source": [
    "# Import list of stocks\n",
    "\n",
    "stocks = pd.read_csv(\"sp_500_stocks.csv\")\n",
    "stocks = stocks.drop([135,219, 467, 484]) # stock giving error, might not be in list"
   ]
  },
  {
   "cell_type": "code",
   "execution_count": null,
   "id": "52030637",
   "metadata": {},
   "outputs": [],
   "source": [
    "# Import IEX Cloud API Token (Sandbox API)\n",
    "\n",
    "from secret import IEX_CLOUD_API_TOKEN\n",
    "token = IEX_CLOUD_API_TOKEN"
   ]
  },
  {
   "cell_type": "code",
   "execution_count": null,
   "id": "77e734de",
   "metadata": {},
   "outputs": [],
   "source": [
    "# Make first API call\n",
    "\n",
    "symbol = \"CME\"\n",
    "api_url = f\"https://sandbox.iexapis.com/stable/stock/{symbol}/quote/?token={token}\"\n",
    "data = requests.get(api_url).json()\n",
    "# data"
   ]
  },
  {
   "cell_type": "code",
   "execution_count": null,
   "id": "21ce107a",
   "metadata": {},
   "outputs": [],
   "source": [
    "my_columns = ['Ticker', 'Stock Price', 'Market Capitalization', 'Number of shares to buy']\n",
    "final_df = pd.DataFrame(columns = my_columns)\n",
    "\n",
    "for stock in stocks[\"Ticker\"]:\n",
    "    \n",
    "    # Make API Call for each stock\n",
    "    api_url = f\"https://sandbox.iexapis.com/stable/stock/{stock}/quote/?token={token}\"\n",
    "    response = requests.get(api_url)\n",
    "    response.raise_for_status()  # raises exception when not a 2xx response\n",
    "    if response.status_code != 204:\n",
    "        data = response.json()\n",
    "         \n",
    "\n",
    "    # Parse API Call\n",
    "    price = data['latestPrice']\n",
    "    market_cap = data['marketCap']\n",
    "    \n",
    "    # Add stocks to dataframe\n",
    "    new_stock = pd.DataFrame([[stock, price, market_cap, \"N/A\"]], columns = my_columns)\n",
    "    final_df = pd.concat([final_df, new_stock])"
   ]
  },
  {
   "cell_type": "code",
   "execution_count": null,
   "id": "d8a7500a",
   "metadata": {},
   "outputs": [],
   "source": [
    "final_df"
   ]
  },
  {
   "cell_type": "markdown",
   "id": "ddf53d0f",
   "metadata": {},
   "source": [
    "## Using Batch API Calls to improve performance."
   ]
  },
  {
   "cell_type": "code",
   "execution_count": null,
   "id": "0e906221",
   "metadata": {},
   "outputs": [],
   "source": [
    "def divide_chunks(lst, n):     \n",
    "    \"\"\"Yield successive n sized chunks/batches from lst\"\"\"\n",
    "    for i in range(0, len(lst), n):\n",
    "        yield lst.loc[i:i + n]"
   ]
  },
  {
   "cell_type": "code",
   "execution_count": null,
   "id": "c335a92e",
   "metadata": {},
   "outputs": [],
   "source": [
    "symbol_groups = list(divide_chunks(stocks[\"Ticker\"], 100))\n",
    "symbol_strings = []\n",
    "for i in range (0, len(symbol_groups)):\n",
    "    symbol_strings.append(','.join(symbol_groups[i]))\n",
    "#     print(symbol_strings[i])\n",
    "\n",
    "final_df = pd.DataFrame(columns = my_columns)\n",
    "\n",
    "for symbol_string in symbol_strings:\n",
    "    # Make Batch API Call \n",
    "    batch_api_call_url = f\"https://sandbox.iexapis.com/stable/stock/market/batch?symbols={symbol_string}&types=quote&token={token}\"\n",
    "    response = requests.get(batch_api_call_url)\n",
    "    response.raise_for_status()  # raises exception when not a 2xx response\n",
    "    if response.status_code != 204:\n",
    "        data = response.json()\n",
    "    \n",
    "    for symbol in symbol_string.split(','):\n",
    "        \n",
    "        if symbol in data.keys():\n",
    "            # Parse API Call\n",
    "            price = data[symbol]['quote']['latestPrice']\n",
    "            market_cap = data[symbol]['quote']['marketCap']\n",
    "\n",
    "            # Add stocks to dataframe\n",
    "            new_stock = pd.DataFrame([[symbol, price, market_cap, \"N/A\"]], columns = my_columns)\n",
    "            final_df = pd.concat([final_df, new_stock])"
   ]
  },
  {
   "cell_type": "code",
   "execution_count": null,
   "id": "931fde4a",
   "metadata": {},
   "outputs": [],
   "source": [
    "final_df = final_df.set_index(\"Ticker\").reset_index()\n",
    "final_df"
   ]
  },
  {
   "cell_type": "markdown",
   "id": "5566b00c",
   "metadata": {},
   "source": [
    "## Calculating the number of shares to buy."
   ]
  },
  {
   "cell_type": "code",
   "execution_count": null,
   "id": "343dc6a6",
   "metadata": {},
   "outputs": [],
   "source": [
    "portfolio_size = input('Enter the value of your portfolio:')\n",
    "\n",
    "try:\n",
    "    val = float(portfolio_size)\n",
    "    print(val)\n",
    "except ValueError:\n",
    "    print(\"Please enter an integer.\")\n",
    "    portfolio_size = input('Enter the value of your portfolio:')\n",
    "    val = float(portfolio_size)"
   ]
  },
  {
   "cell_type": "code",
   "execution_count": null,
   "id": "a145d5f3",
   "metadata": {},
   "outputs": [],
   "source": [
    "position_size = val/len(final_df.index)\n",
    "final_df['Number of shares to buy'] = (position_size/final_df['Stock Price']).apply(np.floor)\n",
    "final_df"
   ]
  },
  {
   "cell_type": "markdown",
   "id": "207f294a",
   "metadata": {},
   "source": [
    "## Formatting Excel Output"
   ]
  },
  {
   "cell_type": "code",
   "execution_count": null,
   "id": "87323ea0",
   "metadata": {},
   "outputs": [],
   "source": [
    "# Initialize xlsxwriter object\n",
    "writer = pd.ExcelWriter('recommended trades.xlsx', engine = 'xlsxwriter')\n",
    "final_df.to_excel(writer, 'Recommended Trades', index = False)\n"
   ]
  },
  {
   "cell_type": "code",
   "execution_count": null,
   "id": "af7472f6",
   "metadata": {},
   "outputs": [],
   "source": [
    "# Set formats\n",
    "background_color = '#0a0a23'\n",
    "font_color = '#ffffff'\n",
    "\n",
    "string_format = writer.book.add_format(\n",
    "    {\n",
    "        \"font_color\": font_color,\n",
    "        \"bg_color\": background_color,\n",
    "        \"border\": 1\n",
    "    }\n",
    ")\n",
    "\n",
    "dollar_format = writer.book.add_format(\n",
    "    {\n",
    "        \"num_format\": \"$0.00\",\n",
    "        \"font_color\": font_color,\n",
    "        \"bg_color\": background_color,\n",
    "        \"border\": 1\n",
    "    }\n",
    ")\n",
    "\n",
    "integer_format = writer.book.add_format(\n",
    "    {\n",
    "        \"num_format\": \"0\",\n",
    "        \"font_color\": font_color,\n",
    "        \"bg_color\": background_color,\n",
    "        \"border\": 1\n",
    "    }\n",
    ")"
   ]
  },
  {
   "cell_type": "code",
   "execution_count": null,
   "id": "de2f709b",
   "metadata": {},
   "outputs": [],
   "source": [
    "# Apply formats\n",
    "column_formats = {\n",
    "    'A': ['Ticker', string_format],\n",
    "    'B': ['Stock Price', dollar_format], \n",
    "    'C': ['Market Capitalization', dollar_format],\n",
    "    'D': ['Number of shares to buy', integer_format]\n",
    "}\n",
    "\n",
    "for column in column_formats.keys():\n",
    "    writer.sheets['Recommended Trades'].set_column(f\"{column}:{column}\", 18, column_formats[column][1])\n",
    "    writer.sheets['Recommended Trades'].write(f\"{column}1\", column_formats[column][0], column_formats[column][1])"
   ]
  },
  {
   "cell_type": "code",
   "execution_count": null,
   "id": "c9b30eed",
   "metadata": {},
   "outputs": [],
   "source": [
    "# Save .xlsx file\n",
    "writer.save()"
   ]
  }
 ],
 "metadata": {
  "kernelspec": {
   "display_name": "Python 3",
   "language": "python",
   "name": "python3"
  },
  "language_info": {
   "codemirror_mode": {
    "name": "ipython",
    "version": 3
   },
   "file_extension": ".py",
   "mimetype": "text/x-python",
   "name": "python",
   "nbconvert_exporter": "python",
   "pygments_lexer": "ipython3",
   "version": "3.8.12"
  }
 },
 "nbformat": 4,
 "nbformat_minor": 5
}
