{
 "cells": [
  {
   "cell_type": "markdown",
   "id": "2561a4d8",
   "metadata": {},
   "source": [
    "# Quantitative Value Strategy\n",
    "\n",
    "Investing in stocks that are cheapest relative to common measures of business value (like earnings or assets)."
   ]
  },
  {
   "cell_type": "code",
   "execution_count": null,
   "id": "9b6815cc",
   "metadata": {},
   "outputs": [],
   "source": [
    "# Import libraries\n",
    "\n",
    "import numpy as np\n",
    "import pandas as pd\n",
    "import requests\n",
    "import math\n",
    "from scipy.stats import percentileofscore\n",
    "import xlsxwriter"
   ]
  },
  {
   "cell_type": "code",
   "execution_count": null,
   "id": "baf9d23a",
   "metadata": {},
   "outputs": [],
   "source": [
    "# Import list of stocks\n",
    "\n",
    "stocks = pd.read_csv(\"sp_500_stocks.csv\")\n",
    "stocks = stocks.drop([135,219, 467, 484]) # stocks giving error, might not be in list\n",
    "print(stocks)"
   ]
  },
  {
   "cell_type": "code",
   "execution_count": null,
   "id": "348122b9",
   "metadata": {},
   "outputs": [],
   "source": [
    "# Import IEX Cloud API Token (Sandbox API)\n",
    "\n",
    "from secret import IEX_CLOUD_API_TOKEN\n",
    "token = IEX_CLOUD_API_TOKEN"
   ]
  },
  {
   "cell_type": "code",
   "execution_count": null,
   "id": "b89d8565",
   "metadata": {},
   "outputs": [],
   "source": [
    "# Make first API Call\n",
    "symbol = \"AAPL\"\n",
    "api_url = f\"https://sandbox.iexapis.com/stable/stock/{symbol}/quote?token={token}\"\n",
    "data = requests.get(api_url).json()\n",
    "# data"
   ]
  },
  {
   "cell_type": "markdown",
   "id": "b3d12bc2",
   "metadata": {},
   "source": [
    "## Execute Batch API Call and Build Dataframe."
   ]
  },
  {
   "cell_type": "code",
   "execution_count": null,
   "id": "3eceeeab",
   "metadata": {},
   "outputs": [],
   "source": [
    "def divide_chunks(lst, n):     \n",
    "    \"\"\"Yield successive n sized chunks/batches from lst\"\"\"\n",
    "    for i in range(0, len(lst), n):\n",
    "        yield lst.loc[i:i + n]\n",
    "        \n",
    "symbol_groups = list(divide_chunks(stocks[\"Ticker\"], 100))\n",
    "symbol_strings = []\n",
    "for i in range (0, len(symbol_groups)):\n",
    "    symbol_strings.append(','.join(symbol_groups[i]))\n",
    "#     print(symbol_strings[i])\n",
    "\n",
    "my_columns = ['Ticker', 'Price', 'Price-to-Earnings Ratio', 'Number of shares to buy']"
   ]
  },
  {
   "cell_type": "code",
   "execution_count": null,
   "id": "ce90ed7d",
   "metadata": {},
   "outputs": [],
   "source": [
    "final_df = pd.DataFrame(columns = my_columns)\n",
    "\n",
    "for symbol_string in symbol_strings:\n",
    "    # Make Batch API Call \n",
    "    batch_api_call_url = f'https://sandbox.iexapis.com/stable/stock/market/batch/?types=quote&symbols={symbol_string}&token={token}'\n",
    "    response = requests.get(batch_api_call_url)\n",
    "    response.raise_for_status()  # raises exception when not a 2xx response\n",
    "    if response.status_code != 204:\n",
    "        data = response.json()\n",
    "#     print(data)\n",
    "\n",
    "    for symbol in symbol_string.split(','):\n",
    "        \n",
    "        if symbol in data.keys():\n",
    "            # Parse API Call\n",
    "            price = data[symbol]['quote']['latestPrice']\n",
    "            peRatio = data[symbol]['quote']['peRatio']\n",
    "\n",
    "            # Add stocks to dataframe\n",
    "            new_stock = pd.DataFrame([[symbol, price, peRatio, \"N/A\"]], columns = my_columns)\n",
    "            final_df = pd.concat([final_df, new_stock])"
   ]
  },
  {
   "cell_type": "markdown",
   "id": "acd8907b",
   "metadata": {},
   "source": [
    "## Remove glamour stocks."
   ]
  },
  {
   "cell_type": "code",
   "execution_count": null,
   "id": "0f2f6d69",
   "metadata": {},
   "outputs": [],
   "source": [
    "final_df.sort_values('Price-to-Earnings Ratio', inplace = True)\n",
    "final_df = final_df[final_df['Price-to-Earnings Ratio'] > 0]\n",
    "final_df = final_df[:50]\n",
    "final_df.reset_index(inplace = True)\n",
    "final_df.drop('index', axis=1, inplace = True)"
   ]
  },
  {
   "cell_type": "markdown",
   "id": "e6fb9376",
   "metadata": {},
   "source": [
    "## Calculate number of shares to buy."
   ]
  },
  {
   "cell_type": "code",
   "execution_count": null,
   "id": "5177dce6",
   "metadata": {},
   "outputs": [],
   "source": [
    "def portfolio_input():\n",
    "    global portfolio_size\n",
    "    portfolio_size = input('Enter the value of your portfolio:')\n",
    "\n",
    "    try:\n",
    "        val = float(portfolio_size)\n",
    "    except ValueError:\n",
    "        print(\"Please enter an integer.\")\n",
    "        portfolio_size = input('Enter the value of your portfolio:')\n",
    "        val = float(portfolio_size)"
   ]
  },
  {
   "cell_type": "code",
   "execution_count": null,
   "id": "118645aa",
   "metadata": {},
   "outputs": [],
   "source": [
    "portfolio_input()"
   ]
  },
  {
   "cell_type": "code",
   "execution_count": null,
   "id": "6c5b0c12",
   "metadata": {},
   "outputs": [],
   "source": [
    "position_size = float(portfolio_size)/len(final_df.index)\n",
    "final_df['Number of shares to buy'] = (position_size/final_df['Price']).apply(np.floor)\n",
    "# final_df"
   ]
  },
  {
   "cell_type": "markdown",
   "id": "3e383956",
   "metadata": {},
   "source": [
    "## Building a better and more realistic Value Strategy.\n",
    "\n",
    "Using a `composite` basket of valuation metrics to build robust quantitative value strategies.\n",
    "\n",
    "We will filter for stocks with the lowest percentiles on the following metrics:\n",
    "* Price-to-earnings ratio\n",
    "* Price-to-book ratio\n",
    "* Price-to-sales ratio\n",
    "* Enterprise Value divided by Earnings Before Interest, Taxes, Depreciation, and Amortization (EV/EBITDA)\n",
    "* Enterprise Value divided by Gross Profit (EV/GP)"
   ]
  },
  {
   "cell_type": "code",
   "execution_count": null,
   "id": "5dcbbd28",
   "metadata": {},
   "outputs": [],
   "source": [
    "rv_columns = [\n",
    "    'Ticker',\n",
    "    'Price',\n",
    "    'Number of Shares to Buy', \n",
    "    'Price-to-Earnings Ratio',\n",
    "    'PE Percentile',\n",
    "    'Price-to-Book Ratio',\n",
    "    'PB Percentile',\n",
    "    'Price-to-Sales Ratio',\n",
    "    'PS Percentile',\n",
    "    'EV/EBITDA',\n",
    "    'EV/EBITDA Percentile',\n",
    "    'EV/GP',\n",
    "    'EV/GP Percentile',\n",
    "    'RV Score'\n",
    "]\n",
    "\n",
    "rv_df = pd.DataFrame(columns = rv_columns)\n",
    "# rv_df"
   ]
  },
  {
   "cell_type": "code",
   "execution_count": null,
   "id": "7b548bd3",
   "metadata": {},
   "outputs": [],
   "source": [
    "for symbol_string in symbol_strings[:1]:\n",
    "    # Make Batch API Call \n",
    "    batch_api_call_url = f'https://sandbox.iexapis.com/stable/stock/market/batch?symbols={symbol_string}&types=quote,advanced-stats&token={token}'\n",
    "    response = requests.get(batch_api_call_url)\n",
    "    response.raise_for_status()  # raises exception when not a 2xx response\n",
    "    if response.status_code != 204:\n",
    "        data = response.json()\n",
    "    \n",
    "    for symbol in symbol_string.split(','):\n",
    "        \n",
    "        if symbol in data.keys():\n",
    "            # Parse API Call\n",
    "            price = data[symbol]['quote']['latestPrice']\n",
    "            peRatio = data[symbol]['stats']['peRatio']\n",
    "            priceToBook = data[symbol]['stats']['priceToBook']\n",
    "            priceToSales = data[symbol]['stats']['priceToSales']\n",
    "            \n",
    "            enterprise_value = data[symbol]['advanced-stats']['enterpriseValue']\n",
    "            ebitda = data[symbol]['advanced-stats']['EBITDA']\n",
    "            gross_profit = data[symbol]['advanced-stats']['grossProfit']\n",
    "\n",
    "            try:\n",
    "                ev_to_ebitda = enterprise_value/ebitda\n",
    "            except TypeError:\n",
    "                ev_to_ebitda = np.NaN\n",
    "\n",
    "            try:\n",
    "                ev_to_gross_profit = enterprise_value/gross_profit\n",
    "            except TypeError:\n",
    "                ev_to_gross_profit = np.NaN\n",
    "\n",
    "\n",
    "            # Add stocks to dataframe\n",
    "            new_stock = pd.DataFrame([[\n",
    "                symbol, \n",
    "                price, \n",
    "                \"N/A\", \n",
    "                peRatio,\n",
    "                \"N/A\",\n",
    "                priceToBook, \n",
    "                \"N/A\",\n",
    "                priceToSales, \n",
    "                \"N/A\",\n",
    "                ev_to_ebitda,\n",
    "                \"N/A\",\n",
    "                ev_to_gross_profit,\n",
    "                \"N/A\",\n",
    "                \"N/A\"\n",
    "            ]], columns = hqm_columns)\n",
    "            rv_df = pd.concat([rv_df, new_stock])"
   ]
  },
  {
   "cell_type": "markdown",
   "id": "4e825037",
   "metadata": {},
   "source": [
    "## Identify missing data in dataframe."
   ]
  },
  {
   "cell_type": "code",
   "execution_count": null,
   "id": "47d852bf",
   "metadata": {},
   "outputs": [],
   "source": [
    "rv_df[rv_dataframe.isnull().any(axis=1)]"
   ]
  },
  {
   "cell_type": "code",
   "execution_count": null,
   "id": "2e085a46",
   "metadata": {},
   "outputs": [],
   "source": [
    "# replace NaN with average value\n",
    "for column in ['Price-to-Earnings Ratio', 'Price-to-Book Ratio','Price-to-Sales Ratio',  'EV/EBITDA','EV/GP']:\n",
    "    rv_df[column].fillna(rv_df[column].mean(), inplace = True)"
   ]
  },
  {
   "cell_type": "code",
   "execution_count": null,
   "id": "e52e2f37",
   "metadata": {},
   "outputs": [],
   "source": [
    "rv_df[rv_dataframe.isnull().any(axis=1)]"
   ]
  },
  {
   "cell_type": "markdown",
   "id": "78720ccf",
   "metadata": {},
   "source": [
    "## Calculating Value Percentiles."
   ]
  },
  {
   "cell_type": "code",
   "execution_count": null,
   "id": "9a2b6a90",
   "metadata": {},
   "outputs": [],
   "source": [
    "metrics = {\n",
    "            'Price-to-Earnings Ratio': 'PE Percentile',\n",
    "            'Price-to-Book Ratio':'PB Percentile',\n",
    "            'Price-to-Sales Ratio': 'PS Percentile',\n",
    "            'EV/EBITDA':'EV/EBITDA Percentile',\n",
    "            'EV/GP':'EV/GP Percentile'\n",
    "}\n",
    "\n",
    "for row in rv_df.index:\n",
    "    for metric in metrics.keys():\n",
    "        rv_df.loc[row, metrics[metric]] = stats.percentileofscore(rv_df[metric], rv_df.loc[row, metric])/100\n",
    "\n",
    "# Print each percentile score to make sure it was calculated properly\n",
    "for metric in metrics.values():\n",
    "    print(rv_df[metric])\n",
    "\n",
    "#Print the entire DataFrame    \n",
    "rv_df"
   ]
  },
  {
   "cell_type": "markdown",
   "id": "12b1bb8c",
   "metadata": {},
   "source": [
    "## Calculating RV Score."
   ]
  },
  {
   "cell_type": "code",
   "execution_count": null,
   "id": "184cb1f3",
   "metadata": {},
   "outputs": [],
   "source": [
    "from statistics import mean\n",
    "\n",
    "for row in rv_df.index:\n",
    "    value_percentiles = []\n",
    "    for metric in metrics.keys():\n",
    "        value_percentiles.append(rv_df.loc[row, metrics[metric]])\n",
    "    rv_df.loc[row, 'RV Score'] = mean(value_percentiles)\n",
    "    \n",
    "rv_df"
   ]
  },
  {
   "cell_type": "markdown",
   "id": "c2dbfdc6",
   "metadata": {},
   "source": [
    "## Select 50 best Value Stocks."
   ]
  },
  {
   "cell_type": "code",
   "execution_count": null,
   "id": "3af22d46",
   "metadata": {},
   "outputs": [],
   "source": [
    "rv_df.sort_values(by = 'RV Score', inplace = True)\n",
    "rv_df = rv_df[:50]\n",
    "rv_df.reset_index(drop = True, inplace = True)"
   ]
  },
  {
   "cell_type": "markdown",
   "id": "99ad864f",
   "metadata": {},
   "source": [
    "## Calculate number of shares to buy.\n"
   ]
  },
  {
   "cell_type": "code",
   "execution_count": null,
   "id": "cfb638a0",
   "metadata": {},
   "outputs": [],
   "source": [
    "portfolio_input()"
   ]
  },
  {
   "cell_type": "code",
   "execution_count": null,
   "id": "ef877d15",
   "metadata": {},
   "outputs": [],
   "source": [
    "position_size = float(portfolio_size)/len(final_df.index)\n",
    "rv_df['Number of shares to buy'] = (position_size/rv_df['Price']).apply(np.floor)\n",
    "# rv_df"
   ]
  },
  {
   "cell_type": "markdown",
   "id": "0a595069",
   "metadata": {},
   "source": [
    "## Format Excel Output."
   ]
  },
  {
   "cell_type": "code",
   "execution_count": null,
   "id": "aaaabad8",
   "metadata": {},
   "outputs": [],
   "source": [
    "writer = pd.ExcelWriter('value_strategy.xlsx', engine='xlsxwriter')\n",
    "rv_dataframe.to_excel(writer, sheet_name='Value Strategy', index = False)"
   ]
  },
  {
   "cell_type": "code",
   "execution_count": null,
   "id": "ce51c3ce",
   "metadata": {},
   "outputs": [],
   "source": [
    "# Set Formats\n",
    "\n",
    "background_color = '#0a0a23'\n",
    "font_color = '#ffffff'\n",
    "\n",
    "string_template = writer.book.add_format(\n",
    "        {\n",
    "            'font_color': font_color,\n",
    "            'bg_color': background_color,\n",
    "            'border': 1\n",
    "        }\n",
    "    )\n",
    "\n",
    "dollar_template = writer.book.add_format(\n",
    "        {\n",
    "            'num_format':'$0.00',\n",
    "            'font_color': font_color,\n",
    "            'bg_color': background_color,\n",
    "            'border': 1\n",
    "        }\n",
    "    )\n",
    "\n",
    "integer_template = writer.book.add_format(\n",
    "        {\n",
    "            'num_format':'0',\n",
    "            'font_color': font_color,\n",
    "            'bg_color': background_color,\n",
    "            'border': 1\n",
    "        }\n",
    "    )\n",
    "\n",
    "float_template = writer.book.add_format(\n",
    "        {\n",
    "            'num_format':'0',\n",
    "            'font_color': font_color,\n",
    "            'bg_color': background_color,\n",
    "            'border': 1\n",
    "        }\n",
    "    )\n",
    "\n",
    "percent_template = writer.book.add_format(\n",
    "        {\n",
    "            'num_format':'0.0%',\n",
    "            'font_color': font_color,\n",
    "            'bg_color': background_color,\n",
    "            'border': 1\n",
    "        }\n",
    "    )"
   ]
  },
  {
   "cell_type": "code",
   "execution_count": null,
   "id": "94a8ae1e",
   "metadata": {},
   "outputs": [],
   "source": [
    "# Apply formats\n",
    "column_formats = {\n",
    "                    'A': ['Ticker', string_template],\n",
    "                    'B': ['Price', dollar_template],\n",
    "                    'C': ['Number of Shares to Buy', integer_template],\n",
    "                    'D': ['Price-to-Earnings Ratio', float_template],\n",
    "                    'E': ['PE Percentile', percent_template],\n",
    "                    'F': ['Price-to-Book Ratio', float_template],\n",
    "                    'G': ['PB Percentile',percent_template],\n",
    "                    'H': ['Price-to-Sales Ratio', float_template],\n",
    "                    'I': ['PS Percentile', percent_template],\n",
    "                    'J': ['EV/EBITDA', float_template],\n",
    "                    'K': ['EV/EBITDA Percentile', percent_template],\n",
    "                    'L': ['EV/GP', float_template],\n",
    "                    'M': ['EV/GP Percentile', percent_template],\n",
    "                    'N': ['RV Score', percent_template]\n",
    "                 }\n",
    "\n",
    "for column in column_formats.keys():\n",
    "    writer.sheets['Value Strategy'].set_column(f'{column}:{column}', 25, column_formats[column][1])\n",
    "    writer.sheets['Value Strategy'].write(f'{column}1', column_formats[column][0], column_formats[column][1])"
   ]
  },
  {
   "cell_type": "code",
   "execution_count": null,
   "id": "f2fcf0a4",
   "metadata": {},
   "outputs": [],
   "source": [
    "# Save .xlsx file\n",
    "writer.save()"
   ]
  }
 ],
 "metadata": {
  "kernelspec": {
   "display_name": "Python 3",
   "language": "python",
   "name": "python3"
  },
  "language_info": {
   "codemirror_mode": {
    "name": "ipython",
    "version": 3
   },
   "file_extension": ".py",
   "mimetype": "text/x-python",
   "name": "python",
   "nbconvert_exporter": "python",
   "pygments_lexer": "ipython3",
   "version": "3.8.12"
  }
 },
 "nbformat": 4,
 "nbformat_minor": 5
}
